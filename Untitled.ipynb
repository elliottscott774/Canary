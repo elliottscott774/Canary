{
 "cells": [
  {
   "cell_type": "code",
   "execution_count": 4,
   "id": "a9f028aa-37c3-45fc-a85b-151bb001f6e8",
   "metadata": {},
   "outputs": [],
   "source": [
    "import itertools\n",
    "import random"
   ]
  },
  {
   "cell_type": "code",
   "execution_count": 5,
   "id": "1b735dbb-72ce-476e-b147-5de39c88581b",
   "metadata": {
    "tags": []
   },
   "outputs": [],
   "source": [
    "class Card:\n",
    "    def __init__(self, value, suit):\n",
    "        self.value = value\n",
    "        self.suit = suit\n",
    "        # Determine if the card is special\n",
    "        self.is_special = value in ['2', '10', 'Joker']\n",
    "        self.is_seven = value in ['7']\n",
    "\n",
    "    def __repr__(self):\n",
    "        return f\"{self.value} of {self.suit}\" if self.suit else f\"{self.value}\"\n"
   ]
  },
  {
   "cell_type": "code",
   "execution_count": 6,
   "id": "55538966-0cee-4e11-9290-ebaca86c24cc",
   "metadata": {
    "tags": []
   },
   "outputs": [],
   "source": [
    "def __init__(self, num_players):\n",
    "        self.num_players = num_players\n",
    "        self.deck = self.create_deck()\n",
    "        self.players_hands = [[] for _ in range(num_players)]\n",
    "        self.face_down_cards = [[] for _ in range(num_players)]\n",
    "        self.face_up_cards = [[] for _ in range(num_players)]\n",
    "        self.draw_pile = []\n",
    "        self.play_pile = []\n",
    "        self.game_over = False\n",
    "        self.play_direction = 1 # 1 for clockwise, -1 for counterclockwise\n",
    "        self.current_player_index = -1\n",
    "        self.setup_game()"
   ]
  },
  {
   "cell_type": "code",
   "execution_count": 7,
   "id": "765fc0a1-d0d2-4686-a892-2bd072806336",
   "metadata": {
    "tags": []
   },
   "outputs": [],
   "source": [
    "def create_deck(self):\n",
    "        suits = ['Hearts', 'Diamonds', 'Clubs', 'Spades']\n",
    "        values = ['2', '3', '4', '5', '6', '7', '8', '9', '10', '11', '12', '13', '14']\n",
    "        deck = [Card(value, suit) for suit in suits for value in values]\n",
    "\n",
    "        # Include Jokers without a suit\n",
    "        deck.extend([Card('Joker', None) for _ in range(2)])  # Adding two Jokers\n",
    "\n",
    "        # Use 2 decks for 5-8 players\n",
    "        if self.num_players >= 5:\n",
    "            deck = deck * 2\n",
    "\n",
    "        return deck"
   ]
  },
  {
   "cell_type": "code",
   "execution_count": 8,
   "id": "eff11673-6d95-4ee0-bec0-2c19ba8e7725",
   "metadata": {},
   "outputs": [],
   "source": [
    "def setup_game(self):\n",
    "        # Shuffle the deck\n",
    "        random.shuffle(self.deck) \n",
    "\n",
    "        # Deal 3 face-down and 6 to choose face-up cards to each player\n",
    "        for i in range(self.num_players):\n",
    "            # Deal 3 face-down cards\n",
    "            self.face_down_cards[i] = [self.deck.pop() for _ in range(3)]\n",
    "\n",
    "            # Deal 6 cards for choosing 3 to be face-up\n",
    "            face_up_candidates = [self.deck.pop() for _ in range(6)]\n",
    "\n",
    "            # Players choose 3 of these to be face-up, for simplicity, randomly select here\n",
    "            self.face_up_cards[i] = random.sample(face_up_candidates, 3)\n",
    "\n",
    "            # The remaining 3 cards from the 6 initially dealt for choosing go into the player's hand\n",
    "            self.players_hands[i] = [card for card in face_up_candidates if card not in self.face_up_cards[i]]\n",
    "\n",
    "        # The rest of the cards form the draw pile\n",
    "        self.draw_pile = self.deck"
   ]
  },
  {
   "cell_type": "code",
   "execution_count": 9,
   "id": "ce95c7f6-ccf3-4e80-8748-5c6301b5377b",
   "metadata": {},
   "outputs": [],
   "source": [
    "def find_starting_player(self):\n",
    "        # Translate card values to numbers for easier comparison\n",
    "        card_value_order = {str(i): i for i in range(2, 11)}\n",
    "        card_value_order.update({'11': 11, '12': 12, '13': 13, '14': 14, '15': 15})\n",
    "\n",
    "        # Initialize counts for each card value for each player\n",
    "        player_card_counts = [{value: 0 for value in card_value_order.keys()} for _ in range(self.num_players)]\n",
    "\n",
    "        # Count the number of each card value in each player's hand\n",
    "        for player_index, hand in enumerate(self.players_hands):\n",
    "            for card in hand:\n",
    "                if card.value in card_value_order:  # Use card.value to access the value of the Card object\n",
    "                    player_card_counts[player_index][card.value] += 1\n",
    "\n",
    "        # Determine who starts based on the cards\n",
    "        for value in ['3', '4', '5', '6', '7', '8', '9', '11', '12', '13', '15', 'Joker', '10', '2']:\n",
    "            # Find players with the current card value\n",
    "            players_with_card = [(index, count[value]) for index, count in enumerate(player_card_counts) if count[value] > 0]\n",
    "\n",
    "            if not players_with_card:  # If no player has the card, continue to the next value\n",
    "                continue\n",
    "\n",
    "            # If only one player has the card, they start\n",
    "            if len(players_with_card) == 1:\n",
    "                return players_with_card[0][0]\n",
    "\n",
    "            # If multiple players have the same card, compare counts\n",
    "            max_count = max(players_with_card, key=lambda x: x[1])[1]\n",
    "            players_with_max = [player for player, count in players_with_card if count == max_count]\n",
    "\n",
    "            if len(players_with_max) == 1:\n",
    "                return players_with_max[0]\n",
    "            # If still tied, continue to the next card value\n",
    "\n",
    "        # If somehow no one can start, return a random player as fallback\n",
    "        return random.randint(0, self.num_players - 1)"
   ]
  },
  {
   "cell_type": "code",
   "execution_count": 10,
   "id": "1c5812dc-b902-4919-82f8-77836d5cc038",
   "metadata": {},
   "outputs": [],
   "source": [
    "def start_game(self):\n",
    "        \n",
    "        starting_player_index = self.find_starting_player()\n",
    "        self.current_player_index = starting_player_index\n",
    "        \n",
    "        while not self.game_over:\n",
    "            # Player takes their turn.\n",
    "            self.play_turn()\n",
    "                    \n",
    "            self.game_over = self.check_game_over()\n",
    "            \n",
    "            # Move to the next player\n",
    "            self.current_player_index = (self.current_player_index + self.play_direction) % self.num_players\n",
    "            \n",
    "        print(\"Game Over\")"
   ]
  },
  {
   "cell_type": "code",
   "execution_count": 11,
   "id": "55abe4d3-f5ae-42fd-a238-62b9f8fbeb20",
   "metadata": {},
   "outputs": [],
   "source": [
    "def play_turn(self):\n",
    "        print(f\"Player {self.current_player_index + 1}'s turn:\")\n",
    "        self.display_player_hand()\n",
    "\n",
    "        # Try playing from hand, face-up, then face-down in order.\n",
    "        if not self.attempt_play_from_hand():\n",
    "            if not self.attempt_play_from_face_up():\n",
    "                if not self.attempt_play_from_face_down():\n",
    "                    print(\"No more cards to play.\")\n",
    "                    self.check_game_over()"
   ]
  },
  {
   "cell_type": "code",
   "execution_count": 12,
   "id": "5c53058c-805f-4a6d-beb8-c481ec89a1f5",
   "metadata": {},
   "outputs": [],
   "source": [
    "def display_player_hand(self):\n",
    "    print(\"Player Hand: \", self.players_hands[self.current_player_index])\n"
   ]
  },
  {
   "cell_type": "code",
   "execution_count": 13,
   "id": "ae68bff9-b960-48df-aafa-7bfd961c407d",
   "metadata": {},
   "outputs": [],
   "source": [
    "def attempt_play_from_hand(self):\n",
    "    return self.attempt_play(self.players_hands[self.current_player_index])\n",
    "\n",
    "    \n",
    "   "
   ]
  },
  {
   "cell_type": "code",
   "execution_count": 14,
   "id": "3896eb62-3669-4e31-8135-76ac7920e91e",
   "metadata": {},
   "outputs": [],
   "source": [
    "def attempt_play_from_face_up(self):\n",
    "    return self.attempt_play(self.face_up_cards[self.current_player_index], is_face_up=True)\n"
   ]
  },
  {
   "cell_type": "code",
   "execution_count": 15,
   "id": "09d207cf-301d-453e-90ff-0ec7f6e4f840",
   "metadata": {},
   "outputs": [],
   "source": [
    " def attempt_play_from_face_down(self):\n",
    "    # Face-down play is a bit different as it involves random choice and immediate play without checking\n",
    "    if self.face_down_cards[self.current_player_index]:\n",
    "        chosen_card = random.choice(self.face_down_cards[self.current_player_index])\n",
    "        if can_play_card(chosen_card):\n",
    "            self.play_card(chosen_card, is_face_down=True)\n",
    "            return True\n",
    "        else:\n",
    "            return False\n",
    "    return False"
   ]
  },
  {
   "cell_type": "code",
   "execution_count": 16,
   "id": "dc2d3778-821c-4427-acb7-456de55c2ed1",
   "metadata": {},
   "outputs": [],
   "source": [
    "def attempt_play(self, card_source, is_face_up=False):\n",
    "    playable_cards = [card for card in card_source if self.can_play_card(card)]\n",
    "    if not playable_cards:\n",
    "        if is_face_up or card_source is self.players_hands[self.current_player_index]:\n",
    "            print(\"No playable cards. Must pick up the pile.\")\n",
    "            self.pick_up_pile()\n",
    "        return False\n",
    "\n",
    "    chosen_card = random.choice(playable_cards)\n",
    "    self.play_card(chosen_card, is_face_up=is_face_up)\n",
    "    return True"
   ]
  },
  {
   "cell_type": "code",
   "execution_count": 17,
   "id": "ac58b7b8-5035-43a4-8022-873130c46148",
   "metadata": {},
   "outputs": [],
   "source": [
    "def can_play_card(self, card):\n",
    "    \"\"\"Check if the card can be played on top of the play pile.\"\"\"\n",
    "    if not self.play_pile:\n",
    "        return True  # Any card can be played if the play pile is empty\n",
    "\n",
    "    top_card = self.play_pile[-1]\n",
    "\n",
    "    # Allow any card to be played if the top card is a Joker\n",
    "    if top_card.value == 'Joker':\n",
    "        return True\n",
    "\n",
    "    # Jokers can be played on anything\n",
    "    if card.value == 'Joker':\n",
    "        return True\n",
    "\n",
    "    print(card.value, \" >= \", top_card.value,\"?\")\n",
    "    return card.value >= top_card.value"
   ]
  },
  {
   "cell_type": "code",
   "execution_count": 18,
   "id": "8f0e307b-0231-4b1d-b40d-ffc0efd40a26",
   "metadata": {},
   "outputs": [],
   "source": [
    "def play_card(self, chosen_card, is_face_up=False, is_face_down=False):\n",
    "    # Check for special cards (Joker, 2, 10, and handling of 7 if needed)\n",
    "    if chosen_card.is_special:\n",
    "        if chosen_card.value == 'Joker':\n",
    "            self.reverse_play_order()\n",
    "        elif chosen_card.value == '2':\n",
    "            # Logic for 2 allowing the player to play again\n",
    "            self.allow_play_again()\n",
    "        elif chosen_card.value == '10':\n",
    "            # Maybe a special logic for 10, like clearing the play pile\n",
    "            self.clear_play_pile()\n",
    "        # Additional logic for any special actions based on card\n",
    "    elif chosen_card.is_seven:\n",
    "        # Handle seven's special rule if applicable\n",
    "        self.handle_seven_action()\n",
    "\n",
    "    # Remove the card from its current location unless it's face-down\n",
    "    if not is_face_down:\n",
    "        if is_face_up:\n",
    "            self.face_up_cards[self.current_player_index].remove(chosen_card)\n",
    "        else:\n",
    "            self.players_hands[self.current_player_index].remove(chosen_card)\n",
    "\n",
    "    self.play_pile.append(chosen_card)\n",
    "    print(f\"Played {chosen_card}.\")\n",
    "    self.post_play_card_actions()"
   ]
  },
  {
   "cell_type": "code",
   "execution_count": 19,
   "id": "9058a682-acf9-4ff3-9b21-6500c05d8f10",
   "metadata": {},
   "outputs": [],
   "source": [
    " def post_play_card_actions(self):\n",
    "    # Ensures the player has at least 3 cards in their hand if the draw pile isn't empty\n",
    "    while len(self.players_hands[self.current_player_index]) < 3 and self.draw_pile:\n",
    "        self.draw_card()\n",
    "        print(f\"Player {self.current_player_index + 1} draws a card. Hand now: {self.players_hands[self.current_player_index]}\")"
   ]
  },
  {
   "cell_type": "code",
   "execution_count": 20,
   "id": "65478d31-be21-4e8f-9b88-309074627bd4",
   "metadata": {},
   "outputs": [],
   "source": [
    "def reverse_play_order(self):\n",
    "    \"\"\"Reverses the current order of play.\"\"\"\n",
    "    # This is a simplified representation. You might store the current direction of play\n",
    "    # (e.g., as a class attribute) and reverse it here. For example:\n",
    "    self.play_direction *= -1"
   ]
  },
  {
   "cell_type": "code",
   "execution_count": 21,
   "id": "bd38ae3f-da86-4b06-9ea4-513f015c44bf",
   "metadata": {},
   "outputs": [],
   "source": [
    "def draw_card(self):\n",
    "    \"\"\"Player draws a card from the draw pile.\"\"\"\n",
    "    if self.draw_pile:\n",
    "        card_drawn = self.draw_pile.pop()\n",
    "        self.players_hands[self.current_player_index].append(card_drawn)\n",
    "    else:\n",
    "        print(\"The draw pile is empty. No card drawn.\")"
   ]
  },
  {
   "cell_type": "code",
   "execution_count": 22,
   "id": "a1c4d4d3-3b56-4913-9425-741b6f0fcf1d",
   "metadata": {},
   "outputs": [],
   "source": [
    "def pick_up_pile(self):\n",
    "    \"\"\"Player picks up the play pile.\"\"\"\n",
    "    self.players_hands[self.current_player_index].extend(self.play_pile)\n",
    "    self.play_pile.clear()\n",
    "    print(\"Picked up the pile.\")\n"
   ]
  },
  {
   "cell_type": "code",
   "execution_count": 23,
   "id": "9e709b13-9e76-4e4a-b0f8-2bd8d18491f9",
   "metadata": {},
   "outputs": [],
   "source": [
    "def check_game_over(self):\n",
    "    # Implement logic to determine if the game has ended.\n",
    "    # This could involve checking if any player has successfully played all their cards (hand, face-up, and face-down).\n",
    "    for player_index in range(self.num_players):\n",
    "        if (not self.players_hands[player_index] and \n",
    "            not self.face_up_cards[player_index] and \n",
    "            not self.face_down_cards[player_index]):\n",
    "            print(f\"Player {player_index + 1} wins and is declared the Canary!\")\n",
    "            return True  # A winner is found\n",
    "    return False  # The game continues"
   ]
  },
  {
   "cell_type": "code",
   "execution_count": 24,
   "id": "3e8a0660-65da-449a-a68e-f57eb51688f0",
   "metadata": {},
   "outputs": [],
   "source": [
    "def allow_play_again(self):\n",
    "    print(\"allow play again\")\n",
    "    # Implement logic to allow the current player to play again. This might mean not advancing\n",
    "    # the current_player_index or setting a flag that allows another turn for the current player.\n",
    "\n"
   ]
  },
  {
   "cell_type": "code",
   "execution_count": 25,
   "id": "2c561ad7-3ab5-41ba-824d-796ecfefb463",
   "metadata": {},
   "outputs": [],
   "source": [
    "def clear_play_pile(self):\n",
    "    print(\"clear play pile\")\n",
    "    # Implement logic to clear the play pile if a 10 is played, for example.\n",
    "\n",
    "    "
   ]
  },
  {
   "cell_type": "code",
   "execution_count": 26,
   "id": "1cfa96c5-31a0-4a07-94a5-be1145c26bf3",
   "metadata": {
    "tags": []
   },
   "outputs": [],
   "source": [
    "def handle_seven_action(self):\n",
    "    print(\"Seven or below!\")\n",
    "    # Implement any special rule for playing a seven, if applicable.\n"
   ]
  },
  {
   "cell_type": "code",
   "execution_count": 32,
   "id": "6e1c6a62-edb4-4d63-850a-cd7431fe8011",
   "metadata": {
    "tags": []
   },
   "outputs": [
    {
     "ename": "SyntaxError",
     "evalue": "invalid syntax (3425164934.py, line 1)",
     "output_type": "error",
     "traceback": [
      "\u001b[1;36m  Cell \u001b[1;32mIn[32], line 1\u001b[1;36m\u001b[0m\n\u001b[1;33m    __init__(.self,4)\u001b[0m\n\u001b[1;37m             ^\u001b[0m\n\u001b[1;31mSyntaxError\u001b[0m\u001b[1;31m:\u001b[0m invalid syntax\n"
     ]
    }
   ],
   "source": []
  }
 ],
 "metadata": {
  "kernelspec": {
   "display_name": "canary",
   "language": "python",
   "name": "canary"
  },
  "language_info": {
   "codemirror_mode": {
    "name": "ipython",
    "version": 3
   },
   "file_extension": ".py",
   "mimetype": "text/x-python",
   "name": "python",
   "nbconvert_exporter": "python",
   "pygments_lexer": "ipython3",
   "version": "3.10.13"
  }
 },
 "nbformat": 4,
 "nbformat_minor": 5
}
