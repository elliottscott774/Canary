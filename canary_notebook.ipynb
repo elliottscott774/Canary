{
 "cells": [
  {
   "cell_type": "markdown",
   "metadata": {},
   "source": [
    "# Canary\n",
    "\n",
    "The following notebook is intended to explain the process of how to create the card game named 'Canary'.\n",
    "\n",
    "#### Game Setup\n",
    "- The game can accommodate 2-8 players.\n",
    "- For 2-4 players, a single deck with 54 cards (including 2 Jokers) is used. For 5-8 players, two decks (108 cards total) are used.\n",
    "- At the start, each player is dealt 3 face-down cards, which are to remain facedown, and an additional 6 cards. From the additional 6 cards, they choose 3 to place face-up for everyone to see. The remaining 3 cards remain in their hand.\n",
    "#### Objective\n",
    "- The goal of the game is to be the first player to play all of your cards (First from hand, then from face-up, and lastly the face-down).\n",
    "#### Game Play\n",
    "- The game begins by determining the starting player, which is based on who has the lowest card, starting from 3s and moving upward as needed. Ties are determined by who has the most of the worst card.\n",
    "- Players take turns in a clockwise order.\n",
    "- On their turn, a player must play a card that beats the card played before it.\n",
    "- If a player cannot play a card, or does not wish to play a card, they must pick up the cards in the played pile. \n",
    "- Players can play multiple cards of the same value at the same time.\n",
    "- If a player has less than 3 cards in their hand and the draw pile isn't empty, they must draw until they have 3 cards.\n",
    "- Once a player has no cards in their hand, and the draw pile is empty, they can start playing their face-up cards. Once no cards remain in their hand or faceup pile, they must choose a face-down card to turn over. If the card beats the previous card, they may play it. If it does not, they must pick up the pile and the card they just turned over.\n",
    "#### Special Cards and Rules\n",
    "- 2: Can be played on any card. Allows the player to take another turn.\n",
    "- 7: The next card played must be 7 or lower. 7s must be played in numerical order.\n",
    "- 10: Can be played on any card. Clears the pile of cards played before it.\n",
    "- Ace: The highest value card.\n",
    "- Joker: Can be played on any card. Reverses the order of play.\n",
    "- If the same value card is played 4 times in a row, the pile is cleared.\n",
    "#### Winning the Game\n",
    "- The first player to play all of their cards (hand, face-up, and face-down) is declared the winner and is called the \"Canary\".\n",
    "\n",
    "-------------------------------------------------------------------------------------------------------------------------------------------------------------------------------------------------------------\n",
    "\n",
    "\n",
    "#### Code\n",
    "\n",
    "The first task is to create the initial setup for the game. We need to create a deck of cards and distribute the cards to each of the players in the correct manner.\n",
    "\n",
    "The code will use the following library"
   ]
  },
  {
   "cell_type": "code",
   "execution_count": 55,
   "metadata": {},
   "outputs": [],
   "source": [
    "import itertools\n",
    "import random\n",
    "import json\n",
    "import pandas as pd"
   ]
  },
  {
   "cell_type": "markdown",
   "metadata": {},
   "source": [
    "#### Card Class\n",
    "\n",
    "The card class is used in the creation of the deck of cards. Each deck will contain an array of these card objects which all contain a value and suit. Additionally if the cards is a 2, 10, or Joker its is_special value will be a 1. If the card is a 7, the is_seven value is given a 1. These attributes are used throughout the code to help with various logic of the game. the __repr__ function is helpful for printing the values of the card."
   ]
  },
  {
   "cell_type": "code",
   "execution_count": 56,
   "metadata": {},
   "outputs": [],
   "source": [
    "class Card:\n",
    "    def __init__(self, value, suit):\n",
    "        self.value = value\n",
    "        self.suit = suit\n",
    "        # Determine if the card is special\n",
    "        self.is_special = value in [2, 10, 'Joker']\n",
    "        self.is_seven = value in [7]\n",
    "\n",
    "    def __repr__(self):\n",
    "        return f\"{self.value} of {self.suit}\" if self.suit else f\"{self.value}\"\n"
   ]
  },
  {
   "cell_type": "markdown",
   "metadata": {},
   "source": [
    "#### CardGame Class\n",
    "\n",
    "The CardGame class object is how we keep track of everything that happens in the game. To create a CardGame object simply pass in the number of players. This CardGame object will then be manipulated by many other functions to simulate the game."
   ]
  },
  {
   "cell_type": "code",
   "execution_count": 57,
   "metadata": {},
   "outputs": [],
   "source": [
    "class CardGame:\n",
    "    def __init__(self, num_players):\n",
    "        self.num_players = num_players\n",
    "        self.deck = []\n",
    "        self.players_hands = [[] for _ in range(num_players)]\n",
    "        self.face_down_cards = [[] for _ in range(num_players)]\n",
    "        self.face_up_cards = [[] for _ in range(num_players)]\n",
    "        self.draw_pile = []\n",
    "        self.play_pile = []\n",
    "        self.game_over = False\n",
    "        self.play_direction = 1 # 1 for clockwise, -1 for counterclockwise\n",
    "        self.current_player_index = -1\n",
    "        self.turn = 0\n",
    "        self.known_opponent_cards = [[] for _ in range(num_players)]\n",
    "        self.game_number = 0"
   ]
  },
  {
   "cell_type": "code",
   "execution_count": 58,
   "metadata": {},
   "outputs": [],
   "source": [
    "card_game = CardGame(4)"
   ]
  },
  {
   "cell_type": "markdown",
   "metadata": {},
   "source": [
    "### Creating the Deck\n",
    "\n",
    "In order to play the game you need a deck of cards. This deck of cards is a standard deck with the inclusion of two joker cards. If there are more than 4 players, then two decks are used. The Joker card does not contain have a suit."
   ]
  },
  {
   "cell_type": "code",
   "execution_count": 59,
   "metadata": {},
   "outputs": [
    {
     "data": {
      "text/html": [
       "<div>\n",
       "<style scoped>\n",
       "    .dataframe tbody tr th:only-of-type {\n",
       "        vertical-align: middle;\n",
       "    }\n",
       "\n",
       "    .dataframe tbody tr th {\n",
       "        vertical-align: top;\n",
       "    }\n",
       "\n",
       "    .dataframe thead th {\n",
       "        text-align: right;\n",
       "    }\n",
       "</style>\n",
       "<table border=\"1\" class=\"dataframe\">\n",
       "  <thead>\n",
       "    <tr style=\"text-align: right;\">\n",
       "      <th></th>\n",
       "      <th>0</th>\n",
       "    </tr>\n",
       "  </thead>\n",
       "  <tbody>\n",
       "    <tr>\n",
       "      <th>0</th>\n",
       "      <td>2 of Hearts</td>\n",
       "    </tr>\n",
       "    <tr>\n",
       "      <th>1</th>\n",
       "      <td>3 of Hearts</td>\n",
       "    </tr>\n",
       "    <tr>\n",
       "      <th>2</th>\n",
       "      <td>4 of Hearts</td>\n",
       "    </tr>\n",
       "    <tr>\n",
       "      <th>3</th>\n",
       "      <td>5 of Hearts</td>\n",
       "    </tr>\n",
       "    <tr>\n",
       "      <th>4</th>\n",
       "      <td>6 of Hearts</td>\n",
       "    </tr>\n",
       "    <tr>\n",
       "      <th>5</th>\n",
       "      <td>7 of Hearts</td>\n",
       "    </tr>\n",
       "    <tr>\n",
       "      <th>6</th>\n",
       "      <td>8 of Hearts</td>\n",
       "    </tr>\n",
       "    <tr>\n",
       "      <th>7</th>\n",
       "      <td>9 of Hearts</td>\n",
       "    </tr>\n",
       "    <tr>\n",
       "      <th>8</th>\n",
       "      <td>10 of Hearts</td>\n",
       "    </tr>\n",
       "    <tr>\n",
       "      <th>9</th>\n",
       "      <td>11 of Hearts</td>\n",
       "    </tr>\n",
       "  </tbody>\n",
       "</table>\n",
       "</div>"
      ],
      "text/plain": [
       "              0\n",
       "0   2 of Hearts\n",
       "1   3 of Hearts\n",
       "2   4 of Hearts\n",
       "3   5 of Hearts\n",
       "4   6 of Hearts\n",
       "5   7 of Hearts\n",
       "6   8 of Hearts\n",
       "7   9 of Hearts\n",
       "8  10 of Hearts\n",
       "9  11 of Hearts"
      ]
     },
     "execution_count": 59,
     "metadata": {},
     "output_type": "execute_result"
    }
   ],
   "source": [
    "def create_deck(self):\n",
    "        suits = ['Hearts', 'Diamonds', 'Clubs', 'Spades']\n",
    "        values = [2,3,4,5,6,7,8,9,10,11,12,13,14,15]\n",
    "        deck = [Card(value, suit) for suit in suits for value in values]\n",
    "\n",
    "        # Include Jokers without a suit\n",
    "        deck.extend([Card('Joker', None) for _ in range(2)])  # Adding two Jokers\n",
    "\n",
    "        # Use 2 decks for 5-8 players\n",
    "        if self.num_players >= 5:\n",
    "            deck = deck * 2\n",
    "\n",
    "        return deck\n",
    "\n",
    "\n",
    "card_game.deck = create_deck(card_game)\n",
    "pd.DataFrame(card_game.deck).head(10)"
   ]
  },
  {
   "cell_type": "markdown",
   "metadata": {},
   "source": [
    "#### Game Setup\n",
    "\n",
    "The setup_game function sets the game up so that the first turn may be executed. The cards are first randomly shuffled. Then, cards are dealt one at a time to each of the players until they all have 3 facedown, and 6 face up candidate cards. Then, from the face up candidate cards each player randomly chooses 3 to be face up, the other 3 become their player hand. For now, the face up cards are chosen randomly from the face up candidate cards. This would normally be chosen by each player via their strategy. Once the cards have been dealt, the remaining cards become the draw pile. "
   ]
  },
  {
   "cell_type": "code",
   "execution_count": 60,
   "metadata": {},
   "outputs": [
    {
     "name": "stdout",
     "output_type": "stream",
     "text": [
      "Facedown Cards:  [[10 of Hearts, 9 of Diamonds, 5 of Clubs], [9 of Spades, 3 of Clubs, 7 of Spades], [4 of Hearts, 11 of Hearts, 13 of Hearts], [13 of Diamonds, 9 of Clubs, 12 of Spades]]\n",
      "Faceup Cards:  [[9 of Hearts, 8 of Clubs, 15 of Hearts], [14 of Spades, 3 of Diamonds, 7 of Hearts], [8 of Spades, 12 of Clubs, 8 of Diamonds], [2 of Hearts, 11 of Spades, 4 of Spades]]\n",
      "Player Hands:  [[7 of Clubs, 13 of Spades, 8 of Hearts], [13 of Clubs, 6 of Hearts, 14 of Hearts], [2 of Clubs, 4 of Clubs, 2 of Spades], [Joker, 6 of Spades, 10 of Spades]]\n",
      "Draw Pile:  [2 of Diamonds, 5 of Spades, 10 of Diamonds, 4 of Diamonds, 6 of Diamonds, 3 of Spades, 11 of Diamonds, 11 of Clubs, 12 of Hearts, Joker, 15 of Clubs, 6 of Clubs, 5 of Diamonds, 15 of Spades, 14 of Diamonds, 14 of Clubs, 3 of Hearts, 10 of Clubs, 7 of Diamonds, 12 of Diamonds, 5 of Hearts, 15 of Diamonds]\n"
     ]
    }
   ],
   "source": [
    "def setup_game(self):\n",
    "        # Shuffle the deck\n",
    "        random.shuffle(self.deck) \n",
    "\n",
    "        # Deal 3 face-down and 6 to choose face-up cards to each player\n",
    "        for i in range(self.num_players):\n",
    "            # Deal 3 face-down cards\n",
    "            self.face_down_cards[i] = [self.deck.pop() for _ in range(3)]\n",
    "\n",
    "            # Deal 6 cards for choosing 3 to be face-up\n",
    "            face_up_candidates = [self.deck.pop() for _ in range(6)]\n",
    "\n",
    "            # Players choose 3 of these to be face-up, for simplicity, randomly select here\n",
    "            self.face_up_cards[i] = random.sample(face_up_candidates, 3)\n",
    "\n",
    "            # The remaining 3 cards from the 6 initially dealt for choosing go into the player's hand\n",
    "            self.players_hands[i] = [card for card in face_up_candidates if card not in self.face_up_cards[i]]\n",
    "\n",
    "        # The rest of the cards form the draw pile\n",
    "        self.draw_pile = self.deck\n",
    "\n",
    "setup_game(card_game)\n",
    "print(\"Facedown Cards: \",card_game.face_down_cards)\n",
    "print(\"Faceup Cards: \",card_game.face_up_cards)\n",
    "print(\"Player Hands: \",card_game.players_hands)\n",
    "print(\"Draw Pile: \",card_game.draw_pile)"
   ]
  },
  {
   "cell_type": "markdown",
   "metadata": {},
   "source": [
    "#### Determining Who Goes First\n",
    "\n",
    "To determine who goes first each hand must be examined. The player with the lowest card (3) shall go first. If multiple players have a 3, then the player with the most 3s shall go first. If that is a tie, and they both don't have all 3s, then the player with the most 4s shall go first, if that is a tie, then 5s, then 6s, ect. If they have the exact same hand, then a player is chosen randomly."
   ]
  },
  {
   "cell_type": "code",
   "execution_count": 61,
   "metadata": {},
   "outputs": [
    {
     "name": "stdout",
     "output_type": "stream",
     "text": [
      "Initial value of current_player_index:  -1\n",
      "Player Hands:  [[7 of Clubs, 13 of Spades, 8 of Hearts], [13 of Clubs, 6 of Hearts, 14 of Hearts], [2 of Clubs, 4 of Clubs, 2 of Spades], [Joker, 6 of Spades, 10 of Spades]]\n",
      "The player with the lowest card(s) goes first. Player numbers are 0,1,2,3\n",
      "Value of current_player_index after running find_starting_player():  2\n"
     ]
    }
   ],
   "source": [
    "def find_starting_player(self):\n",
    "        # Define the order for determining the starting player\n",
    "        card_value_order = [3, 4, 5, 6, 7, 8, 9, 11, 12, 13, 14, 'Joker', 10, 2]\n",
    "\n",
    "        # Initialize counts for each card value for each player\n",
    "        player_card_counts = [{value: 0 for value in card_value_order} for _ in range(self.num_players)]\n",
    "\n",
    "        # Count the number of each card value in each player's hand\n",
    "        for player_index, hand in enumerate(self.players_hands):\n",
    "            for card in hand:\n",
    "                if card.value in card_value_order:\n",
    "                    player_card_counts[player_index][card.value] += 1\n",
    "\n",
    "        # Determine who starts based on the cards\n",
    "        for value in card_value_order:\n",
    "            # Find players with the current card value\n",
    "            players_with_card = [(index, count[value]) for index, count in enumerate(player_card_counts) if count[value] > 0]\n",
    "\n",
    "            if not players_with_card:  # If no player has the card, continue to the next value\n",
    "                continue\n",
    "\n",
    "            # If only one player has the card, they start\n",
    "            if len(players_with_card) == 1:\n",
    "                return players_with_card[0][0]\n",
    "\n",
    "            # If multiple players have the same card, compare counts\n",
    "            max_count = max(players_with_card, key=lambda x: x[1])[1]\n",
    "            players_with_max = [player for player, count in players_with_card if count == max_count]\n",
    "\n",
    "            if len(players_with_max) == 1:\n",
    "                return players_with_max[0]\n",
    "            # If still tied, continue to the next card value\n",
    "\n",
    "        # If somehow no one can start, return a random player as fallback\n",
    "        return random.randint(0, self.num_players - 1)\n",
    "\n",
    "\n",
    "print(\"Initial value of current_player_index: \", card_game.current_player_index)\n",
    "print(\"Player Hands: \", card_game.players_hands)\n",
    "print(\"The player with the lowest card(s) goes first. Player numbers are 0,1,2,3\")\n",
    "card_game.current_player_index = find_starting_player(card_game)\n",
    "print(\"Value of current_player_index after running find_starting_player(): \", card_game.current_player_index)\n",
    "\n"
   ]
  },
  {
   "cell_type": "markdown",
   "metadata": {},
   "source": [
    "#### Simulating the Game\n",
    "\n",
    "The next few functions all stem from the 'start_game()' function. This function begins with a while statement that runs while the game is not over. If the game is not over, then the data of the CardGame object is saved via the collect_game_data() function. This function will be explained in a following potion of the notebook. After the data collection, there is a check to make sure that the game is not over. If the game is over the while loop will end. Otherwise, the 'play_turn()' function is called in which a player will be able to play a card (or not)."
   ]
  },
  {
   "cell_type": "code",
   "execution_count": 62,
   "metadata": {},
   "outputs": [],
   "source": [
    "def start_game(self):\n",
    "        \n",
    "    while not self.game_over:\n",
    "        # Player takes their turn.\n",
    "        game_data = collect_game_data(self)\n",
    "        #print(game_data)\n",
    "\n",
    "        self.game_over = check_game_over(self)\n",
    "        \n",
    "        play_turn(self)        \n",
    "              \n",
    "    print(\"Game Over!\")"
   ]
  },
  {
   "cell_type": "markdown",
   "metadata": {},
   "source": [
    "#### Playing a Turn\n",
    "\n",
    "For every turn played, there is a counter that keeps track of the number of turns. \n",
    "\n",
    "For each turn, an attempt is made to first play from the hand, then the face up cards, then the face down cards. The term 'attempt' is referring to the number of cards in each pile. If a player cannot 'attempt' to play a card from their hand because it is empty, then they must attempt to play from the face up pile. If that pile is also empty, then they should attempt to play from the facedown pile, and if thats empty then the game should end. \n",
    "\n",
    "If there are cards to be played then each of the attempt functions will return True, which will then cause the program to exit the if statements. If the attempt function returns true, it does NOT mean the card can be played. The test to see if a card can be played will happen at a later point. "
   ]
  },
  {
   "cell_type": "code",
   "execution_count": 63,
   "metadata": {},
   "outputs": [],
   "source": [
    "def play_turn(self):\n",
    "    self.turn += 1\n",
    "    #print(f\"Player {self.current_player_index + 1}'s turn:\")\n",
    "        \n",
    "\n",
    "    # Try playing from hand, face-up, then face-down in order.\n",
    "    if not attempt_play_from_hand(self):\n",
    "        if not attempt_play_from_face_up(self):\n",
    "            if not attempt_play_from_face_down(self):\n",
    "                return "
   ]
  },
  {
   "cell_type": "markdown",
   "metadata": {},
   "source": [
    "#### Attempting Play From Each Hand\n",
    "\n",
    "The first attempt function is the 'attempt_play_from_hand' function. This function simply calls  'attempt_play'. The 'attempt_play' function is passed the cards in the current players hand. \n",
    "\n",
    "Likewise, 'attempt_play_from_face_up' also calls 'attempt_play' and passes the current player's face up cards. Additionally, a boolean value 'is_face_up' is passed and set to True. This value helps us later understand which function called 'attempt_play', which is important for determining which pile we are playing the card from. Perhaps this could be simplified?\n",
    "\n",
    "'attempt_play_from_face_down' has similar logic. Instead of the entire face down pile being passed, and random card from the pile is passed. Similarly, a True 'is_face_down' boolean is passed."
   ]
  },
  {
   "cell_type": "code",
   "execution_count": 64,
   "metadata": {},
   "outputs": [],
   "source": [
    "def attempt_play_from_hand(self):\n",
    "        #print(\"Player Hand: \", self.players_hands[self.current_player_index])\n",
    "        return attempt_play(self, card_source = self.players_hands[self.current_player_index])"
   ]
  },
  {
   "cell_type": "code",
   "execution_count": 65,
   "metadata": {},
   "outputs": [],
   "source": [
    "def attempt_play_from_face_up(self):\n",
    "        #print(\"Players Face-Up Hand: \", self.face_up_cards[self.current_player_index])\n",
    "        return attempt_play(self, card_source = self.face_up_cards[self.current_player_index], is_face_up = True)"
   ]
  },
  {
   "cell_type": "code",
   "execution_count": 66,
   "metadata": {},
   "outputs": [],
   "source": [
    "def attempt_play_from_face_down(self, is_face_down = True):\n",
    "        # Face-down play is a bit different as it involves random choice and immediate play without checking\n",
    "        if self.face_down_cards[self.current_player_index]:\n",
    "            chosen_card = random.choice(self.face_down_cards[self.current_player_index])\n",
    "            ##print(\"Players Face-Down Hand:: \", chosen_card)\n",
    "            return attempt_play(self, card_source = chosen_card, is_face_down = True)\n",
    "        else:\n",
    "            return False"
   ]
  },
  {
   "cell_type": "markdown",
   "metadata": {},
   "source": [
    "### Attempt Play\n",
    "\n",
    "The goal of this function is to determine if card_source contains cards. If they do, then another function called 'can_play_card' is called to determine if the cards are playable, meaning they beat the current top card in the play pile. If there are no playable cards, then the pile is picked up by the current player, and True is returned. \n",
    "\n",
    "It is important to remember where True is being returned to. It goes all the way back to play_turn(), which means the turn is completed and the code can continue.\n",
    "If the card_source was empty, then False is returned, which would cause the code to enter the next if statement, leading to the next hand being used to attempt a play. \n",
    "\n",
    "If there are playable cards, then a random card is chosen and passed into a function called play_card().\n",
    "\n",
    "If is_face_up or is_face_down True an if statement is entered. These if statements again help with future logic and understanding where the play attempt originated from. \n",
    "\n",
    "\n",
    "Lastly, True is returned to end the turn.\n"
   ]
  },
  {
   "cell_type": "code",
   "execution_count": 67,
   "metadata": {},
   "outputs": [],
   "source": [
    "def attempt_play(self, card_source, is_face_up = False, is_face_down = False):\n",
    "\n",
    "        if is_face_up:\n",
    "            if not card_source:\n",
    "                #Face up cards is empty, move to facedown\n",
    "                return False\n",
    "            \n",
    "            playable_cards = [card for card in card_source if can_play_card(self, card)]\n",
    "            #print(\"Playable Cards: \", playable_cards)\n",
    "            if not playable_cards:\n",
    "                    #print(\"No playable cards in face up pile\")\n",
    "                    pick_up_pile(self)\n",
    "                    return True\n",
    "            chosen_card = random.choice(playable_cards)\n",
    "            play_card(self, chosen_card, is_face_up = True)\n",
    "            return True\n",
    "        \n",
    "        if is_face_down:\n",
    "            if not card_source:\n",
    "                return False\n",
    "            \n",
    "            #print(\"Card Selected: \", card_source)\n",
    "            \n",
    "            if can_play_card(self, card_source):\n",
    "                self.play_pile.append(card_source)\n",
    "                self.face_down_cards[self.current_player_index].remove(card_source)\n",
    "                return True\n",
    "            else:\n",
    "                self.play_pile.append(card_source)\n",
    "                self.face_down_cards[self.current_player_index].remove(card_source)\n",
    "                pick_up_pile(self)\n",
    "                return True\n",
    "\n",
    "        \n",
    "        if not card_source:\n",
    "            #print(\"No Cards in Hand!\")\n",
    "            return False\n",
    "        \n",
    "        playable_cards = [card for card in card_source if can_play_card(self,card)]\n",
    "        #print(\"Playable Cards: \", playable_cards)\n",
    "        if not playable_cards:\n",
    "            pick_up_pile(self)   \n",
    "            return True\n",
    "\n",
    "        chosen_card = random.choice(playable_cards)\n",
    "        play_card(self, chosen_card)\n",
    "        return True"
   ]
  },
  {
   "cell_type": "markdown",
   "metadata": {},
   "source": [
    "#### Can a Card Be Played?\n",
    "\n",
    "To determine if a card can be played, the card must beat the current top card in the play pile."
   ]
  },
  {
   "cell_type": "code",
   "execution_count": 68,
   "metadata": {},
   "outputs": [],
   "source": [
    "def can_play_card(self, card):\n",
    "        \"\"\"Check if the card can be played on top of the play pile.\"\"\"\n",
    "        if not self.play_pile:\n",
    "            return True  # Any card can be played if the play pile is empty\n",
    "        \n",
    "        top_card = self.play_pile[-1]\n",
    "        \n",
    "        # Allow any card to be played if the top card is a special card or the played card is special\n",
    "        if top_card.is_special:\n",
    "            return True\n",
    "        \n",
    "        if card.is_special:\n",
    "            return True\n",
    "        \n",
    "        if top_card.is_seven:\n",
    "            #print(card.value, \" <= \", top_card.value,\"?\", card.value <= top_card.value)\n",
    "            return card.value <= 7\n",
    "        \n",
    "        #print(card.value, \" >= \", top_card.value,\"?\", card.value >= top_card.value)\n",
    "        return card.value >= top_card.value"
   ]
  },
  {
   "cell_type": "markdown",
   "metadata": {},
   "source": [
    "#### Playing a Card\n",
    "\n",
    "For future projects I have included an additional attribute to the CardGame object called known_opponent_cards. This attribute is an array of the same length as player_hands except instead of the card suits and values, it reads 'unknown' unless the card has been played and picked up by a player. Consider a real life game of canary, since everyone in real life can see the cards being played, they can theoretically, with perfect memory, remember all of the cards played. Therefore, if a player picks up these cards they are 'known' cards. 'known_opponent_cards is simply' a reflection of these cards and this knowledge.\n",
    "\n",
    "The relevancy of this attribute to the play_card function is if the card is played and it is one of the known opponent cards, then it should be removed from this list since the opponent no longer holds a known card.\n",
    "\n",
    "Following this if a series of if statements checking if the card is special or is a seven, and if it is there is a series of logic to plays out the rules from the game. \n",
    "\n",
    "A card is played by adding it to the play pile and removing it from whatever player's pile it came from.\n",
    "\n",
    "Following the playing of a card, a function called post_play_card_actions is called."
   ]
  },
  {
   "cell_type": "code",
   "execution_count": 69,
   "metadata": {},
   "outputs": [],
   "source": [
    "def play_card(self, chosen_card, is_face_up=False, is_face_down=False):\n",
    "        # Remove the card from known_opponent_cards if it was known\n",
    "        if chosen_card in self.known_opponent_cards[self.current_player_index]:\n",
    "            self.known_opponent_cards[self.current_player_index].remove(chosen_card)\n",
    "\n",
    "        # Check for special cards (Joker, 2, 10, and handling of 7 if needed)\n",
    "        if chosen_card.is_special:\n",
    "            if chosen_card.value == 'Joker':\n",
    "                self.play_pile.append(chosen_card)\n",
    "                #print(f\"Played {chosen_card}.\")\n",
    "                self.play_direction *= -1\n",
    "                if not is_face_down:\n",
    "                    if is_face_up:\n",
    "                        self.face_up_cards[self.current_player_index].remove(chosen_card)\n",
    "                    else:\n",
    "                        self.players_hands[self.current_player_index].remove(chosen_card)\n",
    "                        \n",
    "                post_play_card_actions(self)\n",
    "                return\n",
    "            elif chosen_card.value == 2:\n",
    "                # Logic for 2 allowing the player to play again\n",
    "                self.play_pile.append(chosen_card)\n",
    "                #print(f\"Played {chosen_card}.\")\n",
    "                if not is_face_down:\n",
    "                    if is_face_up:\n",
    "                        self.face_up_cards[self.current_player_index].remove(chosen_card)\n",
    "                    else:\n",
    "                        self.players_hands[self.current_player_index].remove(chosen_card)\n",
    "                allow_play_again(self)\n",
    "                post_play_card_actions(self)\n",
    "                return\n",
    "            elif chosen_card.value == 10:\n",
    "                # Maybe a special logic for 10, like clearing the play pile\n",
    "                self.play_pile.append(chosen_card)\n",
    "                #print(f\"Played {chosen_card}.\")\n",
    "                clear_play_pile(self)\n",
    "                # Remove the card from its current location unless it's face-down\n",
    "                if not is_face_down:\n",
    "                    if is_face_up:\n",
    "                        self.face_up_cards[self.current_player_index].remove(chosen_card)\n",
    "                    else:\n",
    "                        self.players_hands[self.current_player_index].remove(chosen_card)\n",
    "                        \n",
    "                post_play_card_actions(self)\n",
    "                return\n",
    "            # Additional logic for any special actions based on card\n",
    "        elif chosen_card.is_seven:\n",
    "            # Handle seven's special rule if applicable\n",
    "            self.play_pile.append(chosen_card)\n",
    "            #print(f\"Played {chosen_card}.\")\n",
    "            # Remove the card from its current location unless it's face-down\n",
    "            if not is_face_down:\n",
    "                if is_face_up:\n",
    "                    self.face_up_cards[self.current_player_index].remove(chosen_card)\n",
    "                else:\n",
    "                    self.players_hands[self.current_player_index].remove(chosen_card)\n",
    "            post_play_card_actions(self)\n",
    "            return\n",
    "\n",
    "        if not is_face_down:\n",
    "            if is_face_up:\n",
    "                self.face_up_cards[self.current_player_index].remove(chosen_card)\n",
    "            else:\n",
    "                self.players_hands[self.current_player_index].remove(chosen_card)\n",
    "\n",
    "        self.play_pile.append(chosen_card)\n",
    "        #print(f\"Played {chosen_card}.\")\n",
    "        post_play_card_actions(self)"
   ]
  },
  {
   "cell_type": "markdown",
   "metadata": {},
   "source": [
    "#### Post Play Actions\n",
    "\n",
    "Following a card being played, the player playing the card needs to draw a new card until they have at least 3 cards in their hand.\n",
    "\n",
    "Next, the function checks if there exists 4 of the same card values in a row in the play_pile. If there are, then the play_pile is cleared. \n",
    "\n",
    "Lastly, the current player index is changed to the next player depending on the number of players and the current play direction."
   ]
  },
  {
   "cell_type": "code",
   "execution_count": 70,
   "metadata": {},
   "outputs": [],
   "source": [
    "def post_play_card_actions(self):\n",
    "        # Ensures the player has at least 3 cards in their hand if the draw pile isn't empty\n",
    "        while len(self.players_hands[self.current_player_index]) < 3 and self.draw_pile:\n",
    "            draw_card(self)\n",
    "            #print(f\"Player {self.current_player_index + 1} draws a card. Hand now: {self.players_hands[self.current_player_index]}\")\n",
    "        \n",
    "        if len(self.play_pile) >= 4:\n",
    "                #print(\"thats a big pile\")\n",
    "                for i in range(len(self.play_pile) -3):\n",
    "                    if self.play_pile[i] == self.play_pile[i+1] == self.play_pile[i+2] == self.play_pile[i+3]:\n",
    "                        #print(\"4 in a row!\")    \n",
    "                        self.play_pile.clear()\n",
    "                \n",
    "            \n",
    "        # Move to the next player\n",
    "        self.current_player_index = (self.current_player_index + self.play_direction) % self.num_players   "
   ]
  },
  {
   "cell_type": "markdown",
   "metadata": {},
   "source": [
    "#### Reversing Play\n",
    "\n",
    "If a joker is played, the order of play is changed. \n",
    "If is was going clockwise, it is now counter-clockwise. \n",
    "If it was counter-clockwise, it is now clockwise."
   ]
  },
  {
   "cell_type": "code",
   "execution_count": 71,
   "metadata": {},
   "outputs": [],
   "source": [
    "def reverse_play_order(self):\n",
    "        \"\"\"Reverses the current order of play.\"\"\"\n",
    "        # This is a simplified representation. You might store the current direction of play\n",
    "        # (e.g., as a class attribute) and reverse it here. For example:\n",
    "        self.play_direction *= -1\n",
    "        #print(\"Reversing Direction!\")\n",
    "        return"
   ]
  },
  {
   "cell_type": "markdown",
   "metadata": {},
   "source": [
    "#### Drawing Cards\n",
    "\n",
    "If a played has less than 3 cards they need to draw cards until they do."
   ]
  },
  {
   "cell_type": "code",
   "execution_count": 72,
   "metadata": {},
   "outputs": [],
   "source": [
    "def draw_card(self):\n",
    "        \"\"\"Player draws a card from the draw pile.\"\"\"\n",
    "        if self.draw_pile:\n",
    "            card_drawn = self.draw_pile.pop()\n",
    "            self.players_hands[self.current_player_index].append(card_drawn)\n",
    "        else:\n",
    "            print(\"The draw pile is empty. No card drawn.\")"
   ]
  },
  {
   "cell_type": "markdown",
   "metadata": {},
   "source": [
    "#### Picking Up The Pile\n",
    "\n",
    "When a played cannot play a card then must pick up the pile. The play pile is added to the current players hand. Additionally the known_opponent_cards is updated to refelct the cards that were picked up. And lastly the play pile is cleared since the cards were all picked up."
   ]
  },
  {
   "cell_type": "code",
   "execution_count": 73,
   "metadata": {},
   "outputs": [],
   "source": [
    "def pick_up_pile(self):\n",
    "        \"\"\"Player picks up the play pile.\"\"\"\n",
    "        self.players_hands[self.current_player_index].extend(self.play_pile)\n",
    "        self.known_opponent_cards[self.current_player_index].extend(self.play_pile)\n",
    "        self.play_pile.clear()\n",
    "        post_play_card_actions(self)\n",
    "        #print(\"Pile picked up!\")"
   ]
  },
  {
   "cell_type": "markdown",
   "metadata": {},
   "source": [
    "#### Checking If The Game Is Over\n",
    "\n",
    "To check if the game is over, each hand of each player is checked to see if it is empty. If all hands of a player are empty then they are the winner! If no player has all empty hands then the game is not over."
   ]
  },
  {
   "cell_type": "code",
   "execution_count": 74,
   "metadata": {},
   "outputs": [],
   "source": [
    "def check_game_over(self):\n",
    "        # Implement logic to determine if the game has ended.\n",
    "        # This could involve checking if any player has successfully played all their cards (hand, face-up, and face-down).\n",
    "        for player_index in range(self.num_players):\n",
    "            if (not self.players_hands[player_index] and \n",
    "                not self.face_up_cards[player_index] and \n",
    "                not self.face_down_cards[player_index]):\n",
    "                print(f\"Player {player_index + 1} wins and is declared the Canary!\")\n",
    "                return True  # A winner is found\n",
    "        return False  # The game continues"
   ]
  },
  {
   "cell_type": "markdown",
   "metadata": {},
   "source": [
    "#### A Two is Played\n",
    "\n",
    "If a two is played then the player who played the two gets to go again. This played is not allowed to draw a card. They must play again from the cards they have, even if they have less than 3 cards. This is the only exception to the rule. "
   ]
  },
  {
   "cell_type": "code",
   "execution_count": 75,
   "metadata": {},
   "outputs": [],
   "source": [
    "def allow_play_again(self):\n",
    "        #print(\"Play again:\")\n",
    "        self.current_player_index = (self.current_player_index - self.play_direction) % self.num_players\n",
    "        #print(self.current_player_index)\n",
    "        # Implement logic to allow the current player to play again. This might mean not advancing\n",
    "        # the current_player_index or setting a flag that allows another turn for the current player."
   ]
  },
  {
   "cell_type": "markdown",
   "metadata": {},
   "source": [
    "#### Clearing The Pile\n",
    "\n",
    "Pretty straight forward. Either a 10 was played, 4 of the same value card were played in a row, or someone picked up the pile. Either way the play pile is cleared. "
   ]
  },
  {
   "cell_type": "code",
   "execution_count": 76,
   "metadata": {},
   "outputs": [],
   "source": [
    "def clear_play_pile(self):\n",
    "        #print(\"Clearing play pile\")\n",
    "        self.play_pile.clear()\n",
    "        # Implement logic to clear the play pile if a 10 is played, for example."
   ]
  },
  {
   "cell_type": "markdown",
   "metadata": {},
   "source": [
    "#### Collecting Data About The Game\n",
    "\n",
    "After each turn the CardGame object attributes are saved to a text file in a JSON format. This data can be used for later projects such as AI players."
   ]
  },
  {
   "cell_type": "code",
   "execution_count": 77,
   "metadata": {},
   "outputs": [],
   "source": [
    "def collect_game_data(self):\n",
    "        game_data = {\n",
    "            'game_number': self.game_number,\n",
    "            'turn_number': self.turn,\n",
    "            'current_player': self.current_player_index + 1,\n",
    "            'num_players': self.num_players,\n",
    "            'cards_in_hands': [[str(card) for card in hand] if i == self.current_player_index else ['Unknown'] * len(hand) for i, hand in enumerate(self.players_hands)],\n",
    "            'known_opponent_cards': [[str(card) for card in known_cards] for known_cards in self.known_opponent_cards], \n",
    "            'num_cards_in_hands': [len(hand) for hand in self.players_hands],\n",
    "            'top_card': str(self.play_pile[-1]) if self.play_pile else None,\n",
    "            'cards_in_pile': [str(card) for card in self.play_pile],\n",
    "            'face_up_cards': [[str(card) for card in face_up] for face_up in self.face_up_cards],\n",
    "            'num_face_up_cards': [len(face_up) for face_up in self.face_up_cards],\n",
    "            'num_face_down_cards': [len(face_down) for face_down in self.face_down_cards],\n",
    "            'play_direction': self.play_direction,\n",
    "            'num_cards_in_draw_pile': len(self.draw_pile),\n",
    "            'game_over': self.game_over\n",
    "        }\n",
    "\n",
    "        with open('game_data.txt', 'a') as file:\n",
    "            json.dump(game_data, file)\n",
    "            file.write('\\n\\n')\n",
    "\n",
    "        return game_data"
   ]
  },
  {
   "cell_type": "markdown",
   "metadata": {},
   "source": [
    "#### Final Statement\n",
    "\n",
    "And thats it! To start the game simply call start_game and pass in a CardGame object. The function will output the game data from each turn."
   ]
  },
  {
   "cell_type": "code",
   "execution_count": 80,
   "metadata": {},
   "outputs": [
    {
     "name": "stdout",
     "output_type": "stream",
     "text": [
      "Game:  1\n",
      "Player 3 wins and is declared the Canary!\n",
      "Game Over!\n",
      "Game:  2\n",
      "Player 4 wins and is declared the Canary!\n",
      "Game Over!\n",
      "Game:  3\n",
      "Player 2 wins and is declared the Canary!\n",
      "Game Over!\n"
     ]
    }
   ],
   "source": [
    "game_number = 1\n",
    "while game_number <= 3:    \n",
    "    print(\"Game: \", game_number)\n",
    "    game = CardGame(4)\n",
    "    game.deck = create_deck(game)\n",
    "    setup_game(game)\n",
    "    game.current_player_index = find_starting_player(game) \n",
    "    game.game_number = game_number \n",
    "    start_game(game)\n",
    "    game_number += 1"
   ]
  }
 ],
 "metadata": {
  "kernelspec": {
   "display_name": "canary",
   "language": "python",
   "name": "python3"
  },
  "language_info": {
   "codemirror_mode": {
    "name": "ipython",
    "version": 3
   },
   "file_extension": ".py",
   "mimetype": "text/x-python",
   "name": "python",
   "nbconvert_exporter": "python",
   "pygments_lexer": "ipython3",
   "version": "3.10.13"
  }
 },
 "nbformat": 4,
 "nbformat_minor": 2
}
