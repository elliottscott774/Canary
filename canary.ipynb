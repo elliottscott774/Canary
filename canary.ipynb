{
 "cells": [
  {
   "cell_type": "code",
   "execution_count": 194,
   "id": "65278f96-65bd-4eff-9cbd-2d271088e051",
   "metadata": {
    "tags": []
   },
   "outputs": [],
   "source": [
    "import itertools\n",
    "import random"
   ]
  },
  {
   "cell_type": "code",
   "execution_count": null,
   "id": "15bbcbd2-2e99-4aea-ac8b-359636616396",
   "metadata": {},
   "outputs": [],
   "source": []
  },
  {
   "cell_type": "code",
   "execution_count": 195,
   "id": "2ccd0264-3875-44f6-9a01-c5cafe138642",
   "metadata": {
    "tags": []
   },
   "outputs": [],
   "source": [
    "class Card:\n",
    "    def __init__(self, value, suit):\n",
    "        self.value = value\n",
    "        self.suit = suit\n",
    "        # Determine if the card is special\n",
    "        self.is_special = value in [2, 10, 'Joker']\n",
    "        self.is_seven = value in [7]\n",
    "\n",
    "    def __repr__(self):\n",
    "        return f\"{self.value} of {self.suit}\" if self.suit else f\"{self.value}\"\n",
    "\n",
    "\n",
    "class CardGame:\n",
    "    def __init__(self, num_players):\n",
    "        self.num_players = num_players\n",
    "        self.deck = self.create_deck()\n",
    "        self.players_hands = [[] for _ in range(num_players)]\n",
    "        self.face_down_cards = [[] for _ in range(num_players)]\n",
    "        self.face_up_cards = [[] for _ in range(num_players)]\n",
    "        self.draw_pile = []\n",
    "        self.play_pile = []\n",
    "        self.game_over = False\n",
    "        self.play_direction = 1 # 1 for clockwise, -1 for counterclockwise\n",
    "        self.current_player_index = -1\n",
    "        self.setup_game()\n",
    "        \n",
    "    def create_deck(self):\n",
    "        suits = ['Hearts', 'Diamonds', 'Clubs', 'Spades']\n",
    "        values = [2,3,4,5,6,7,8,9,10,11,12,13,14,15]\n",
    "        deck = [Card(value, suit) for suit in suits for value in values]\n",
    "\n",
    "        # Include Jokers without a suit\n",
    "        deck.extend([Card('Joker', None) for _ in range(2)])  # Adding two Jokers\n",
    "\n",
    "        # Use 2 decks for 5-8 players\n",
    "        if self.num_players >= 5:\n",
    "            deck = deck * 2\n",
    "\n",
    "        return deck\n",
    "    \n",
    "    def setup_game(self):\n",
    "        # Shuffle the deck\n",
    "        random.shuffle(self.deck) \n",
    "\n",
    "        # Deal 3 face-down and 6 to choose face-up cards to each player\n",
    "        for i in range(self.num_players):\n",
    "            # Deal 3 face-down cards\n",
    "            self.face_down_cards[i] = [self.deck.pop() for _ in range(3)]\n",
    "\n",
    "            # Deal 6 cards for choosing 3 to be face-up\n",
    "            face_up_candidates = [self.deck.pop() for _ in range(6)]\n",
    "\n",
    "            # Players choose 3 of these to be face-up, for simplicity, randomly select here\n",
    "            self.face_up_cards[i] = random.sample(face_up_candidates, 3)\n",
    "\n",
    "            # The remaining 3 cards from the 6 initially dealt for choosing go into the player's hand\n",
    "            self.players_hands[i] = [card for card in face_up_candidates if card not in self.face_up_cards[i]]\n",
    "\n",
    "        # The rest of the cards form the draw pile\n",
    "        self.draw_pile = self.deck\n",
    "    \n",
    "    def find_starting_player(self):\n",
    "        # Define the order for determining the starting player\n",
    "        card_value_order = [3, 4, 5, 6, 7, 8, 9, 11, 12, 13, 14, 'Joker', 10, 2]\n",
    "\n",
    "        # Initialize counts for each card value for each player\n",
    "        player_card_counts = [{value: 0 for value in card_value_order} for _ in range(self.num_players)]\n",
    "\n",
    "        # Count the number of each card value in each player's hand\n",
    "        for player_index, hand in enumerate(self.players_hands):\n",
    "            for card in hand:\n",
    "                if card.value in card_value_order:\n",
    "                    player_card_counts[player_index][card.value] += 1\n",
    "\n",
    "        # Determine who starts based on the cards\n",
    "        for value in card_value_order:\n",
    "            # Find players with the current card value\n",
    "            players_with_card = [(index, count[value]) for index, count in enumerate(player_card_counts) if count[value] > 0]\n",
    "\n",
    "            if not players_with_card:  # If no player has the card, continue to the next value\n",
    "                continue\n",
    "\n",
    "            # If only one player has the card, they start\n",
    "            if len(players_with_card) == 1:\n",
    "                return players_with_card[0][0]\n",
    "\n",
    "            # If multiple players have the same card, compare counts\n",
    "            max_count = max(players_with_card, key=lambda x: x[1])[1]\n",
    "            players_with_max = [player for player, count in players_with_card if count == max_count]\n",
    "\n",
    "            if len(players_with_max) == 1:\n",
    "                return players_with_max[0]\n",
    "            # If still tied, continue to the next card value\n",
    "\n",
    "        # If somehow no one can start, return a random player as fallback\n",
    "        return random.randint(0, self.num_players - 1)\n",
    "\n",
    "\n",
    "\n",
    "    def start_game(self):\n",
    "        \n",
    "        starting_player_index = self.find_starting_player()\n",
    "        self.current_player_index = starting_player_index\n",
    "        \n",
    "        while not self.game_over:\n",
    "            # Player takes their turn.\n",
    "            self.play_turn()\n",
    "                    \n",
    "            self.game_over = self.check_game_over()\n",
    "            \n",
    "            # Move to the next player\n",
    "            self.current_player_index = (self.current_player_index + self.play_direction) % self.num_players\n",
    "            \n",
    "        print(\"Game Over\")\n",
    "\n",
    "    def play_turn(self):\n",
    "        print(f\"Player {self.current_player_index + 1}'s turn:\")\n",
    "        self.display_player_hand()\n",
    "\n",
    "        # Try playing from hand, face-up, then face-down in order.\n",
    "        if not self.attempt_play_from_hand():\n",
    "            if not self.attempt_play_from_face_up():\n",
    "                if not self.attempt_play_from_face_down():\n",
    "                    print(\"No more cards to play.\")\n",
    "        \n",
    "        \n",
    "    def display_player_hand(self):\n",
    "        print(\"Player Hand: \", self.players_hands[self.current_player_index])\n",
    "    \n",
    "    def attempt_play_from_hand(self):\n",
    "        return self.attempt_play(self.players_hands[self.current_player_index])\n",
    "\n",
    "    def attempt_play_from_face_up(self):\n",
    "        return self.attempt_play(self.face_up_cards[self.current_player_index], is_face_up = True)\n",
    "\n",
    "    def attempt_play_from_face_down(self, is_face_down = True):\n",
    "        # Face-down play is a bit different as it involves random choice and immediate play without checking\n",
    "        if self.face_down_cards[self.current_player_index]:\n",
    "            chosen_card = random.choice(self.face_down_cards[self.current_player_index])\n",
    "            return self.attempt_play(chosen_card, is_face_down)\n",
    "    \n",
    "    def attempt_play(self, card_source, is_face_up = False, is_face_down = False):\n",
    "        \n",
    "        if is_face_up:\n",
    "            if not card_source:\n",
    "                #Face up cards is empty, move to facedown\n",
    "                return False\n",
    "            \n",
    "            playable_cards = [card for card in card_source if self.can_play_card(card)]\n",
    "            print(\"Playable Cards: \", playable_cards)\n",
    "            if not playable_cards:\n",
    "                    print(\"No playable cards in face up pile\")\n",
    "                    self.pick_up_pile()\n",
    "                    return False\n",
    "        \n",
    "        if is_face_down:\n",
    "            playable_cards = [card for card in card_source if self.can_play_card(card)]\n",
    "            print(\"Playable Cards: \", playable_cards)\n",
    "            if not playable_cards:\n",
    "                if card_source is self.face_down_cards[self.current_player_index]:\n",
    "                    print(\"No Cards in Face down. Game should be over?\")\n",
    "                    return False\n",
    "                self.pick_up_pile()\n",
    "                return True\n",
    "        \n",
    "        playable_cards = [card for card in card_source if self.can_play_card(card)]\n",
    "        print(\"Playable Cards: \", playable_cards)\n",
    "        if not playable_cards:\n",
    "            if card_source is []:\n",
    "                print(\"No Cards in Hand. Attempting to play from face up or face down cards.\")\n",
    "                return False\n",
    "            self.pick_up_pile()\n",
    "            return True\n",
    "\n",
    "        chosen_card = random.choice(playable_cards)\n",
    "        self.play_card(chosen_card)\n",
    "        return True\n",
    "    \n",
    "    def can_play_card(self, card):\n",
    "        \"\"\"Check if the card can be played on top of the play pile.\"\"\"\n",
    "        if not self.play_pile:\n",
    "            return True  # Any card can be played if the play pile is empty\n",
    "        \n",
    "        top_card = self.play_pile[-1]\n",
    "        \n",
    "        # Allow any card to be played if the top card is a special card or the played card is special\n",
    "        if top_card.is_special:\n",
    "            return True\n",
    "        \n",
    "        if card.is_special:\n",
    "            return True\n",
    "        \n",
    "        if top_card.is_seven:\n",
    "            print(card.value, \" <= \", top_card.value,\"?\", card.value <= top_card.value)\n",
    "            return card.value <= 7\n",
    "        \n",
    "        print(card.value, \" >= \", top_card.value,\"?\", card.value >= top_card.value)\n",
    "        return card.value >= top_card.value\n",
    "\n",
    "    def play_card(self, chosen_card, is_face_up=False, is_face_down=False):\n",
    "        # Check for special cards (Joker, 2, 10, and handling of 7 if needed)\n",
    "        if chosen_card.is_special:\n",
    "            if chosen_card.value == 'Joker':\n",
    "                self.play_pile.append(chosen_card)\n",
    "                print(f\"Played {chosen_card}.\")\n",
    "                self.reverse_play_order()\n",
    "                self.post_play_card_actions()\n",
    "                if not is_face_down:\n",
    "                    if is_face_up:\n",
    "                        self.face_up_cards[self.current_player_index].remove(chosen_card)\n",
    "                    else:\n",
    "                        self.players_hands[self.current_player_index].remove(chosen_card)\n",
    "                return\n",
    "            elif chosen_card.value == 2:\n",
    "                # Logic for 2 allowing the player to play again\n",
    "                self.play_pile.append(chosen_card)\n",
    "                print(f\"Played {chosen_card}.\")\n",
    "                if not is_face_down:\n",
    "                    if is_face_up:\n",
    "                        self.face_up_cards[self.current_player_index].remove(chosen_card)\n",
    "                    else:\n",
    "                        self.players_hands[self.current_player_index].remove(chosen_card)\n",
    "                self.allow_play_again()\n",
    "                return\n",
    "            elif chosen_card.value == 10:\n",
    "                # Maybe a special logic for 10, like clearing the play pile\n",
    "                self.play_pile.append(chosen_card)\n",
    "                print(f\"Played {chosen_card}.\")\n",
    "                self.clear_play_pile()\n",
    "                # Remove the card from its current location unless it's face-down\n",
    "                if not is_face_down:\n",
    "                    if is_face_up:\n",
    "                        self.face_up_cards[self.current_player_index].remove(chosen_card)\n",
    "                    else:\n",
    "                        self.players_hands[self.current_player_index].remove(chosen_card)\n",
    "                        \n",
    "                self.post_play_card_actions()\n",
    "                return\n",
    "            # Additional logic for any special actions based on card\n",
    "        elif chosen_card.is_seven:\n",
    "            # Handle seven's special rule if applicable\n",
    "            self.play_pile.append(chosen_card)\n",
    "            print(f\"Played {chosen_card}.\")\n",
    "            self.handle_seven_action()\n",
    "            self.post_play_card_actions()\n",
    "            # Remove the card from its current location unless it's face-down\n",
    "            if not is_face_down:\n",
    "                if is_face_up:\n",
    "                    self.face_up_cards[self.current_player_index].remove(chosen_card)\n",
    "                else:\n",
    "                    self.players_hands[self.current_player_index].remove(chosen_card)\n",
    "            return\n",
    "\n",
    "        if not is_face_down:\n",
    "            if is_face_up:\n",
    "                self.face_up_cards[self.current_player_index].remove(chosen_card)\n",
    "            else:\n",
    "                self.players_hands[self.current_player_index].remove(chosen_card)\n",
    "\n",
    "        self.play_pile.append(chosen_card)\n",
    "        print(f\"Played {chosen_card}.\")\n",
    "        self.post_play_card_actions()\n",
    "        \n",
    "    def post_play_card_actions(self):\n",
    "        # Ensures the player has at least 3 cards in their hand if the draw pile isn't empty\n",
    "        while len(self.players_hands[self.current_player_index]) < 3 and self.draw_pile:\n",
    "            self.draw_card()\n",
    "            print(f\"Player {self.current_player_index + 1} draws a card. Hand now: {self.players_hands[self.current_player_index]}\")\n",
    "\n",
    "    def reverse_play_order(self):\n",
    "        \"\"\"Reverses the current order of play.\"\"\"\n",
    "        # This is a simplified representation. You might store the current direction of play\n",
    "        # (e.g., as a class attribute) and reverse it here. For example:\n",
    "        self.play_direction *= -1\n",
    "    \n",
    "    def draw_card(self):\n",
    "        \"\"\"Player draws a card from the draw pile.\"\"\"\n",
    "        if self.draw_pile:\n",
    "            card_drawn = self.draw_pile.pop()\n",
    "            self.players_hands[self.current_player_index].append(card_drawn)\n",
    "        else:\n",
    "            print(\"The draw pile is empty. No card drawn.\")\n",
    "    \n",
    "    def pick_up_pile(self):\n",
    "        \"\"\"Player picks up the play pile.\"\"\"\n",
    "        self.players_hands[self.current_player_index].extend(self.play_pile)\n",
    "        self.play_pile.clear()\n",
    "        print(\"Picked up the pile.\")\n",
    "        \n",
    "    def check_game_over(self):\n",
    "        # Implement logic to determine if the game has ended.\n",
    "        # This could involve checking if any player has successfully played all their cards (hand, face-up, and face-down).\n",
    "        for player_index in range(self.num_players):\n",
    "            if (not self.players_hands[player_index] and \n",
    "                not self.face_up_cards[player_index] and \n",
    "                not self.face_down_cards[player_index]):\n",
    "                print(f\"Player {player_index + 1} wins and is declared the Canary!\")\n",
    "                return True  # A winner is found\n",
    "        return False  # The game continues\n",
    "    \n",
    "    def allow_play_again(self):\n",
    "        print(\"allow play again:\")\n",
    "        self.current_player_index = (self.current_player_index - self.play_direction)\n",
    "        print(self.current_player_index)\n",
    "        # Implement logic to allow the current player to play again. This might mean not advancing\n",
    "        # the current_player_index or setting a flag that allows another turn for the current player.\n",
    "    \n",
    "    def clear_play_pile(self):\n",
    "        print(\"clear play pile\")\n",
    "        self.play_pile.clear()\n",
    "        # Implement logic to clear the play pile if a 10 is played, for example.\n",
    "\n",
    "    def handle_seven_action(self):\n",
    "        print(\"Seven or below!\")\n",
    "    # Implement any special rule for playing a seven, if applicable.\n",
    "\n",
    "        \n",
    "game = CardGame(4)  "
   ]
  },
  {
   "cell_type": "code",
   "execution_count": 196,
   "id": "7e566b2c-88af-4bf5-b88d-ffd3947ec210",
   "metadata": {
    "tags": []
   },
   "outputs": [
    {
     "data": {
      "text/plain": [
       "[7 of Clubs,\n",
       " 15 of Clubs,\n",
       " 11 of Hearts,\n",
       " 6 of Hearts,\n",
       " 2 of Diamonds,\n",
       " 15 of Hearts,\n",
       " 10 of Diamonds,\n",
       " 11 of Clubs,\n",
       " 5 of Clubs,\n",
       " 14 of Clubs,\n",
       " 3 of Spades,\n",
       " 10 of Clubs,\n",
       " 2 of Clubs,\n",
       " 9 of Hearts,\n",
       " Joker,\n",
       " 13 of Spades,\n",
       " 9 of Clubs,\n",
       " 13 of Diamonds,\n",
       " 12 of Diamonds,\n",
       " 6 of Clubs,\n",
       " 14 of Spades,\n",
       " 9 of Spades]"
      ]
     },
     "execution_count": 196,
     "metadata": {},
     "output_type": "execute_result"
    }
   ],
   "source": [
    "game.deck"
   ]
  },
  {
   "cell_type": "code",
   "execution_count": 197,
   "id": "1fea1ac1-88e0-4489-b122-75eb3928ebdd",
   "metadata": {
    "tags": []
   },
   "outputs": [
    {
     "data": {
      "text/plain": [
       "6"
      ]
     },
     "execution_count": 197,
     "metadata": {},
     "output_type": "execute_result"
    }
   ],
   "source": [
    "game.deck[3].value"
   ]
  },
  {
   "cell_type": "code",
   "execution_count": 198,
   "id": "78463c35-1ab7-497d-a4c4-bcb308f29123",
   "metadata": {
    "tags": []
   },
   "outputs": [
    {
     "data": {
      "text/plain": [
       "'Hearts'"
      ]
     },
     "execution_count": 198,
     "metadata": {},
     "output_type": "execute_result"
    }
   ],
   "source": [
    "game.deck[3].suit"
   ]
  },
  {
   "cell_type": "code",
   "execution_count": 199,
   "id": "a90154f3-2881-497b-8b7e-d88ef3cc0752",
   "metadata": {
    "tags": []
   },
   "outputs": [
    {
     "data": {
      "text/plain": [
       "False"
      ]
     },
     "execution_count": 199,
     "metadata": {},
     "output_type": "execute_result"
    }
   ],
   "source": [
    "game.deck[3].is_special"
   ]
  },
  {
   "cell_type": "code",
   "execution_count": 200,
   "id": "cfbb9a6e-855d-48f7-9058-86448d61eddf",
   "metadata": {
    "tags": []
   },
   "outputs": [
    {
     "data": {
      "text/plain": [
       "False"
      ]
     },
     "execution_count": 200,
     "metadata": {},
     "output_type": "execute_result"
    }
   ],
   "source": [
    "game.deck[3].is_seven"
   ]
  },
  {
   "cell_type": "code",
   "execution_count": null,
   "id": "26027865-1d83-45e5-bd42-6796e210c148",
   "metadata": {},
   "outputs": [],
   "source": []
  },
  {
   "cell_type": "code",
   "execution_count": null,
   "id": "d5cb26da-c319-4a91-ad8e-333b8f2f6686",
   "metadata": {},
   "outputs": [],
   "source": []
  },
  {
   "cell_type": "code",
   "execution_count": null,
   "id": "df1e83f2-ce89-4485-bbd1-f16acdca6214",
   "metadata": {},
   "outputs": [],
   "source": []
  },
  {
   "cell_type": "code",
   "execution_count": 201,
   "id": "c298e1ad-bf9a-4e11-ada9-2ca089e794fa",
   "metadata": {
    "tags": []
   },
   "outputs": [
    {
     "data": {
      "text/plain": [
       "[7 of Clubs,\n",
       " 15 of Clubs,\n",
       " 11 of Hearts,\n",
       " 6 of Hearts,\n",
       " 2 of Diamonds,\n",
       " 15 of Hearts,\n",
       " 10 of Diamonds,\n",
       " 11 of Clubs,\n",
       " 5 of Clubs,\n",
       " 14 of Clubs,\n",
       " 3 of Spades,\n",
       " 10 of Clubs,\n",
       " 2 of Clubs,\n",
       " 9 of Hearts,\n",
       " Joker,\n",
       " 13 of Spades,\n",
       " 9 of Clubs,\n",
       " 13 of Diamonds,\n",
       " 12 of Diamonds,\n",
       " 6 of Clubs,\n",
       " 14 of Spades,\n",
       " 9 of Spades]"
      ]
     },
     "execution_count": 201,
     "metadata": {},
     "output_type": "execute_result"
    }
   ],
   "source": [
    "game.draw_pile"
   ]
  },
  {
   "cell_type": "code",
   "execution_count": 202,
   "id": "99c7002b-fae0-45bb-83e4-a4a72910330b",
   "metadata": {
    "tags": []
   },
   "outputs": [
    {
     "data": {
      "text/plain": [
       "[[6 of Spades, 14 of Hearts, 10 of Spades],\n",
       " [5 of Diamonds, 5 of Spades, 14 of Diamonds],\n",
       " [15 of Diamonds, Joker, 13 of Hearts],\n",
       " [2 of Hearts, 8 of Hearts, 3 of Clubs]]"
      ]
     },
     "execution_count": 202,
     "metadata": {},
     "output_type": "execute_result"
    }
   ],
   "source": [
    "game.face_down_cards"
   ]
  },
  {
   "cell_type": "code",
   "execution_count": 203,
   "id": "01f73c9b-3de2-4232-bd49-667c5eaa4061",
   "metadata": {
    "tags": []
   },
   "outputs": [
    {
     "data": {
      "text/plain": [
       "[[3 of Diamonds, 3 of Hearts, 8 of Spades],\n",
       " [7 of Spades, 4 of Clubs, 15 of Spades],\n",
       " [7 of Hearts, 2 of Spades, 9 of Diamonds],\n",
       " [7 of Diamonds, 4 of Hearts, 10 of Hearts]]"
      ]
     },
     "execution_count": 203,
     "metadata": {},
     "output_type": "execute_result"
    }
   ],
   "source": [
    "game.face_up_cards"
   ]
  },
  {
   "cell_type": "code",
   "execution_count": 204,
   "id": "fe6433dd-aa54-4d83-808b-1d9142bc2e60",
   "metadata": {
    "tags": []
   },
   "outputs": [
    {
     "data": {
      "text/plain": [
       "[[4 of Diamonds, 13 of Clubs, 12 of Spades],\n",
       " [11 of Diamonds, 8 of Diamonds, 8 of Clubs],\n",
       " [12 of Clubs, 6 of Diamonds, 4 of Spades],\n",
       " [11 of Spades, 5 of Hearts, 12 of Hearts]]"
      ]
     },
     "execution_count": 204,
     "metadata": {},
     "output_type": "execute_result"
    }
   ],
   "source": [
    "game.players_hands"
   ]
  },
  {
   "cell_type": "code",
   "execution_count": 205,
   "id": "0c8e4215-ba1d-4767-97e5-2f1912a99a49",
   "metadata": {
    "tags": []
   },
   "outputs": [
    {
     "data": {
      "text/plain": [
       "[]"
      ]
     },
     "execution_count": 205,
     "metadata": {},
     "output_type": "execute_result"
    }
   ],
   "source": [
    "game.play_pile"
   ]
  },
  {
   "cell_type": "code",
   "execution_count": null,
   "id": "9a431770-bec7-47d8-81f1-0a2fd2d67196",
   "metadata": {
    "tags": []
   },
   "outputs": [],
   "source": []
  },
  {
   "cell_type": "code",
   "execution_count": 206,
   "id": "c59c5523-00fb-410b-82c4-b8c93399b4b2",
   "metadata": {},
   "outputs": [
    {
     "name": "stdout",
     "output_type": "stream",
     "text": [
      "Player 3's turn:\n",
      "Player Hand:  [4 of Clubs, 7 of Clubs, 3 of Diamonds]\n",
      "Playable Cards:  [4 of Clubs, 7 of Clubs, 3 of Diamonds]\n",
      "Played 7 of Clubs.\n",
      "Seven or below!\n",
      "Player 4's turn:\n",
      "Player Hand:  [15 of Spades, 12 of Clubs, 6 of Diamonds]\n",
      "15  <=  7 ? False\n",
      "12  <=  7 ? False\n",
      "6  <=  7 ? True\n",
      "Playable Cards:  [6 of Diamonds]\n",
      "Played 6 of Diamonds.\n",
      "Player 4 draws a card. Hand now: [15 of Spades, 12 of Clubs, 10 of Clubs]\n",
      "Player 1's turn:\n",
      "Player Hand:  [2 of Diamonds, 6 of Hearts, Joker]\n",
      "6  >=  6 ? True\n",
      "Playable Cards:  [2 of Diamonds, 6 of Hearts, Joker]\n",
      "Played 6 of Hearts.\n",
      "Player 1 draws a card. Hand now: [2 of Diamonds, Joker, 6 of Spades]\n",
      "Player 2's turn:\n",
      "Player Hand:  [15 of Hearts, 12 of Diamonds, 14 of Hearts]\n",
      "15  >=  6 ? True\n",
      "12  >=  6 ? True\n",
      "14  >=  6 ? True\n",
      "Playable Cards:  [15 of Hearts, 12 of Diamonds, 14 of Hearts]\n",
      "Played 15 of Hearts.\n",
      "Player 2 draws a card. Hand now: [12 of Diamonds, 14 of Hearts, 7 of Diamonds]\n",
      "Player 3's turn:\n",
      "Player Hand:  [4 of Clubs, 3 of Diamonds]\n",
      "4  >=  15 ? False\n",
      "3  >=  15 ? False\n",
      "Playable Cards:  []\n",
      "No Cards in Hand. Attempting to play from face up or face down cards.\n",
      "9  >=  15 ? False\n",
      "12  >=  15 ? False\n",
      "11  >=  15 ? False\n",
      "Playable Cards:  []\n",
      "No Cards in Face Up. Attempting to play from Face down cards.\n"
     ]
    },
    {
     "ename": "TypeError",
     "evalue": "'Card' object is not iterable",
     "output_type": "error",
     "traceback": [
      "\u001b[1;31m---------------------------------------------------------------------------\u001b[0m",
      "\u001b[1;31mTypeError\u001b[0m                                 Traceback (most recent call last)",
      "Cell \u001b[1;32mIn[206], line 2\u001b[0m\n\u001b[0;32m      1\u001b[0m game \u001b[38;5;241m=\u001b[39m CardGame(\u001b[38;5;241m4\u001b[39m)\n\u001b[1;32m----> 2\u001b[0m \u001b[43mgame\u001b[49m\u001b[38;5;241;43m.\u001b[39;49m\u001b[43mstart_game\u001b[49m\u001b[43m(\u001b[49m\u001b[43m)\u001b[49m\n",
      "Cell \u001b[1;32mIn[195], line 107\u001b[0m, in \u001b[0;36mCardGame.start_game\u001b[1;34m(self)\u001b[0m\n\u001b[0;32m    103\u001b[0m \u001b[38;5;28mself\u001b[39m\u001b[38;5;241m.\u001b[39mcurrent_player_index \u001b[38;5;241m=\u001b[39m starting_player_index\n\u001b[0;32m    105\u001b[0m \u001b[38;5;28;01mwhile\u001b[39;00m \u001b[38;5;129;01mnot\u001b[39;00m \u001b[38;5;28mself\u001b[39m\u001b[38;5;241m.\u001b[39mgame_over:\n\u001b[0;32m    106\u001b[0m     \u001b[38;5;66;03m# Player takes their turn.\u001b[39;00m\n\u001b[1;32m--> 107\u001b[0m     \u001b[38;5;28;43mself\u001b[39;49m\u001b[38;5;241;43m.\u001b[39;49m\u001b[43mplay_turn\u001b[49m\u001b[43m(\u001b[49m\u001b[43m)\u001b[49m\n\u001b[0;32m    109\u001b[0m     \u001b[38;5;28mself\u001b[39m\u001b[38;5;241m.\u001b[39mgame_over \u001b[38;5;241m=\u001b[39m \u001b[38;5;28mself\u001b[39m\u001b[38;5;241m.\u001b[39mcheck_game_over()\n\u001b[0;32m    111\u001b[0m     \u001b[38;5;66;03m# Move to the next player\u001b[39;00m\n",
      "Cell \u001b[1;32mIn[195], line 123\u001b[0m, in \u001b[0;36mCardGame.play_turn\u001b[1;34m(self)\u001b[0m\n\u001b[0;32m    121\u001b[0m \u001b[38;5;28;01mif\u001b[39;00m \u001b[38;5;129;01mnot\u001b[39;00m \u001b[38;5;28mself\u001b[39m\u001b[38;5;241m.\u001b[39mattempt_play_from_hand():\n\u001b[0;32m    122\u001b[0m     \u001b[38;5;28;01mif\u001b[39;00m \u001b[38;5;129;01mnot\u001b[39;00m \u001b[38;5;28mself\u001b[39m\u001b[38;5;241m.\u001b[39mattempt_play_from_face_up():\n\u001b[1;32m--> 123\u001b[0m         \u001b[38;5;28;01mif\u001b[39;00m \u001b[38;5;129;01mnot\u001b[39;00m \u001b[38;5;28;43mself\u001b[39;49m\u001b[38;5;241;43m.\u001b[39;49m\u001b[43mattempt_play_from_face_down\u001b[49m\u001b[43m(\u001b[49m\u001b[43m)\u001b[49m:\n\u001b[0;32m    124\u001b[0m             \u001b[38;5;28mprint\u001b[39m(\u001b[38;5;124m\"\u001b[39m\u001b[38;5;124mNo more cards to play.\u001b[39m\u001b[38;5;124m\"\u001b[39m)\n",
      "Cell \u001b[1;32mIn[195], line 140\u001b[0m, in \u001b[0;36mCardGame.attempt_play_from_face_down\u001b[1;34m(self, is_face_down)\u001b[0m\n\u001b[0;32m    138\u001b[0m \u001b[38;5;28;01mif\u001b[39;00m \u001b[38;5;28mself\u001b[39m\u001b[38;5;241m.\u001b[39mface_down_cards[\u001b[38;5;28mself\u001b[39m\u001b[38;5;241m.\u001b[39mcurrent_player_index]:\n\u001b[0;32m    139\u001b[0m     chosen_card \u001b[38;5;241m=\u001b[39m random\u001b[38;5;241m.\u001b[39mchoice(\u001b[38;5;28mself\u001b[39m\u001b[38;5;241m.\u001b[39mface_down_cards[\u001b[38;5;28mself\u001b[39m\u001b[38;5;241m.\u001b[39mcurrent_player_index])\n\u001b[1;32m--> 140\u001b[0m     \u001b[38;5;28;01mreturn\u001b[39;00m \u001b[38;5;28;43mself\u001b[39;49m\u001b[38;5;241;43m.\u001b[39;49m\u001b[43mattempt_play\u001b[49m\u001b[43m(\u001b[49m\u001b[43mchosen_card\u001b[49m\u001b[43m,\u001b[49m\u001b[43m \u001b[49m\u001b[43mis_face_down\u001b[49m\u001b[43m)\u001b[49m\n",
      "Cell \u001b[1;32mIn[195], line 145\u001b[0m, in \u001b[0;36mCardGame.attempt_play\u001b[1;34m(self, card_source, is_face_up, is_face_down)\u001b[0m\n\u001b[0;32m    142\u001b[0m \u001b[38;5;28;01mdef\u001b[39;00m \u001b[38;5;21mattempt_play\u001b[39m(\u001b[38;5;28mself\u001b[39m, card_source, is_face_up \u001b[38;5;241m=\u001b[39m \u001b[38;5;28;01mFalse\u001b[39;00m, is_face_down \u001b[38;5;241m=\u001b[39m \u001b[38;5;28;01mFalse\u001b[39;00m):\n\u001b[0;32m    144\u001b[0m     \u001b[38;5;28;01mif\u001b[39;00m is_face_up:\n\u001b[1;32m--> 145\u001b[0m         playable_cards \u001b[38;5;241m=\u001b[39m [card \u001b[38;5;28;01mfor\u001b[39;00m card \u001b[38;5;129;01min\u001b[39;00m card_source \u001b[38;5;28;01mif\u001b[39;00m \u001b[38;5;28mself\u001b[39m\u001b[38;5;241m.\u001b[39mcan_play_card(card)]\n\u001b[0;32m    146\u001b[0m         \u001b[38;5;28mprint\u001b[39m(\u001b[38;5;124m\"\u001b[39m\u001b[38;5;124mPlayable Cards: \u001b[39m\u001b[38;5;124m\"\u001b[39m, playable_cards)\n\u001b[0;32m    147\u001b[0m         \u001b[38;5;28;01mif\u001b[39;00m \u001b[38;5;129;01mnot\u001b[39;00m playable_cards:\n",
      "\u001b[1;31mTypeError\u001b[0m: 'Card' object is not iterable"
     ]
    }
   ],
   "source": [
    "game = CardGame(4)\n",
    "game.start_game()"
   ]
  }
 ],
 "metadata": {
  "kernelspec": {
   "display_name": "canary",
   "language": "python",
   "name": "canary"
  },
  "language_info": {
   "codemirror_mode": {
    "name": "ipython",
    "version": 3
   },
   "file_extension": ".py",
   "mimetype": "text/x-python",
   "name": "python",
   "nbconvert_exporter": "python",
   "pygments_lexer": "ipython3",
   "version": "3.10.13"
  }
 },
 "nbformat": 4,
 "nbformat_minor": 5
}
